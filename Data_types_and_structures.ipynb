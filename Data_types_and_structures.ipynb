{
  "nbformat": 4,
  "nbformat_minor": 0,
  "metadata": {
    "colab": {
      "provenance": []
    },
    "kernelspec": {
      "name": "python3",
      "display_name": "Python 3"
    },
    "language_info": {
      "name": "python"
    }
  },
  "cells": [
    {
      "cell_type": "markdown",
      "source": [
        "# Data Types and Structures Questions"
      ],
      "metadata": {
        "id": "s81VrUxCzk4b"
      }
    },
    {
      "cell_type": "markdown",
      "source": [
        "1. What are data structures, and why are they important ?\n",
        "   \n",
        "   > Data structures are ways of organizing and storing data in a computer so it can be accessed and modified efficiently.\n",
        "   \n",
        "   > Data Structures are important because they :\n",
        "    * Simplify data manipulation (adding, removing, modifying elements)\n",
        "    * Optimize searching and sorting operations\n",
        "    * Conserve memory usage\n"
      ],
      "metadata": {
        "id": "h4ufB_HpojWP"
      }
    },
    {
      "cell_type": "markdown",
      "metadata": {
        "id": "717b60c7"
      },
      "source": [
        "2. Explain the difference between mutable and immutable data types with examples.  \n",
        "- Mutable → data types can be changed or modified after they are created.  lists, dictionaries, and sets are mutable. Example:\n",
        "  \n",
        "  my_list = [1, 2, 3]\n",
        "\n",
        "  my_list[0] = 10   // can change value\n",
        "  \n",
        "- Immutable → Data types cannot be changed after they are created. Tuples, strings, and integers are immutable. Example:  \n",
        "  \n",
        "  my_tuple = (1, 2, 3)\n",
        "\n",
        "  my_tuple[0] = 10    // cannot change value\n",
        "  "
      ]
    },
    {
      "cell_type": "markdown",
      "metadata": {
        "id": "2287739c"
      },
      "source": [
        "3. What are the main differences between lists and tuples in Python?\n",
        "- **List**: Lists are mutable, represented using square brackets `[]`.\n",
        "- **Tuple**: Tuples are Immutable,  represented using Parentheses `()`."
      ]
    },
    {
      "cell_type": "markdown",
      "metadata": {
        "id": "b0490e28"
      },
      "source": [
        "4. Describe how dictionaries store data.\n",
        "> Dictionaries store data as a collection of key-value pairs.\n",
        "> Each key is unique and is used to retrieve its associated value."
      ]
    },
    {
      "cell_type": "markdown",
      "metadata": {
        "id": "bf94adca"
      },
      "source": [
        "5. Why might you use a set instead of a list in Python?\n",
        "> Because :\n",
        "\n",
        ">* Sets automatically remove duplicates, which is useful for tasks like finding all unique items in a collection.\n",
        "\n",
        ">* provides faster membership testing (i.e Checking if an item is in a set ) as compared to list"
      ]
    },
    {
      "cell_type": "markdown",
      "metadata": {
        "id": "8945a50a"
      },
      "source": [
        "6. What is a string in Python, and how is it different from a list?  \n",
        "-  A string is a sequence of characters, such as letters, numbers, and symbols. It is an immutable data type.\n",
        "-  A list is an ordered, mutable collection of elements of various data types.\n",
        "- The main difference is that a string's contents cannot be changed after creation (immutable), while a list's can (mutable)."
      ]
    },
    {
      "cell_type": "markdown",
      "metadata": {
        "id": "33bb88d6"
      },
      "source": [
        "7. How do tuples ensure data integrity in Python?\n",
        "> Since tuples are immutable, their contents cannot be modified.  \n",
        "> This makes them reliable when you want to store constant data that should not change."
      ]
    },
    {
      "cell_type": "markdown",
      "metadata": {
        "id": "104e8a31"
      },
      "source": [
        "8. What is a hash table, and how does it relate to dictionaries in Python?  \n",
        "> A hash table is a data structure that maps keys to values using a hash function.  \n",
        "> Python's dictionaries are implemented using a hash table. When you create a key-value pair, the key is \"hashed\" to determine where its value will be stored."
      ]
    },
    {
      "cell_type": "markdown",
      "metadata": {
        "id": "4f8fcfea"
      },
      "source": [
        "9. Can lists contain different data types in Python?\n",
        "> Yes, lists contain different data types."
      ]
    },
    {
      "cell_type": "markdown",
      "metadata": {
        "id": "35115847"
      },
      "source": [
        "10. Explain why strings are immutable in Python.\n",
        "> Strings are immutable to ensure **security, efficiency, and consistency** (e.g., hash values remain constant when used as dictionary keys)."
      ]
    },
    {
      "cell_type": "markdown",
      "metadata": {
        "id": "d72800bd"
      },
      "source": [
        "11. What advantages do dictionaries offer over lists for certain tasks?\n",
        "- Faster lookups by key\n",
        "- Store data in **key-value format** for meaningful access.  \n",
        "- Avoid searching by index."
      ]
    },
    {
      "cell_type": "markdown",
      "metadata": {
        "id": "0d49871b"
      },
      "source": [
        "12. Describe a scenario where using a tuple would be preferable over a list.\n",
        "> A good scenario for using a tuple is when you need to store a collection of related items that should not change, such as geographical coordinates.\n",
        "\n",
        "> For example, (latitude, longitude). Since coordinates are a fixed pair of values, a tuple is a better choice than a list."
      ]
    },
    {
      "cell_type": "markdown",
      "metadata": {
        "id": "2636a78d"
      },
      "source": [
        "13. How do sets handle duplicate values in Python?\n",
        "> Sets automatically **remove duplicates**.  \n"
      ]
    },
    {
      "cell_type": "markdown",
      "metadata": {
        "id": "f183c046"
      },
      "source": [
        "14. How does the “in” keyword work differently for lists and dictionaries?  \n",
        "- Lists: `item in my_list` checks if the specified item is present as a value in the list.\n",
        "- Dictionaries: `key in my_dict` checks if the specified key is present in the dictionary."
      ]
    },
    {
      "cell_type": "markdown",
      "metadata": {
        "id": "cd277e66"
      },
      "source": [
        "15. Can you modify the elements of a tuple? Explain why or why not.\n",
        "> No, you cannot modify the elements of a tuple because tuples are **immutable**.  \n",
        "> Once created, elements cannot be changed or reassigned."
      ]
    },
    {
      "cell_type": "markdown",
      "metadata": {
        "id": "bf03f488"
      },
      "source": [
        "16. What is a nested dictionary, and give an example of its use case?\n",
        "> A **nested dictionary** is a dictionary inside another dictionary.  \n",
        "\n",
        "Example:  \n",
        "```python\n",
        "students = {\n",
        "    \"Alice\": {\"age\": 20, \"grade\": \"A\"},\n",
        "    \"Bob\": {\"age\": 22, \"grade\": \"B\"}\n",
        "}\n",
        "```\n",
        "Use case: Storing structured data like student records."
      ]
    },
    {
      "cell_type": "markdown",
      "metadata": {
        "id": "e759212b"
      },
      "source": [
        "17. Describe the time complexity of accessing elements in a dictionary.\n",
        "- **Average case**: O(1) (constant time).  \n",
        "- **Worst case (rare)**: O(n) due to hash collisions."
      ]
    },
    {
      "cell_type": "markdown",
      "metadata": {
        "id": "6b92d25d"
      },
      "source": [
        "18. In what situations are lists preferred over dictionaries?  \n",
        "Lists are preferred over dictionaries when:\n",
        "\n",
        "- The order of the elements is important.\n",
        "\n",
        "- You need to store a collection of items where each item is identified by its position or index, rather than a unique key.\n",
        "\n"
      ]
    },
    {
      "cell_type": "markdown",
      "metadata": {
        "id": "549a6b14"
      },
      "source": [
        "19. Why are dictionaries considered unordered, and how does that affect data retrieval?\n",
        "> Traditionally, dictionaries were unordered (before Python 3.7).  \n",
        "> Now they maintain **insertion order**, but still retrieval is by **key, not position**.  \n",
        "> You can’t rely on index-based access."
      ]
    },
    {
      "cell_type": "markdown",
      "metadata": {
        "id": "fa26660d"
      },
      "source": [
        "20. Explain the difference between a list and a dictionary in terms of data retrieval.\n",
        "- **List** are accessed by their integer index\n",
        "- **Dictionaries**  are accessed by their unique key. You retrieve a value based on an associated key."
      ]
    },
    {
      "cell_type": "markdown",
      "source": [
        "#Practical Questions\n"
      ],
      "metadata": {
        "id": "_-CrBR3s0UIc"
      }
    },
    {
      "cell_type": "markdown",
      "source": [
        "1.Write a code to create a string with your name and print it?\n"
      ],
      "metadata": {
        "id": "ICP6Kj-O0inG"
      }
    },
    {
      "cell_type": "code",
      "source": [
        "name = \"srushti\"\n",
        "print(name)"
      ],
      "metadata": {
        "colab": {
          "base_uri": "https://localhost:8080/"
        },
        "id": "sgtEZU4J0LDQ",
        "outputId": "628682c1-47a9-4494-b3a4-0283da54ca01"
      },
      "execution_count": null,
      "outputs": [
        {
          "output_type": "stream",
          "name": "stdout",
          "text": [
            "srushti\n"
          ]
        }
      ]
    },
    {
      "cell_type": "markdown",
      "source": [
        "2.Write a code to find the length of the string \"Hello World\"\n"
      ],
      "metadata": {
        "id": "2CgxdQBo0y7R"
      }
    },
    {
      "cell_type": "code",
      "source": [
        "string =  \"Hello World\"\n",
        "len(string)"
      ],
      "metadata": {
        "colab": {
          "base_uri": "https://localhost:8080/"
        },
        "id": "x-Vu4mxO0RtS",
        "outputId": "9e6fca02-ca04-479a-c41a-0064c60c7a7e"
      },
      "execution_count": null,
      "outputs": [
        {
          "output_type": "execute_result",
          "data": {
            "text/plain": [
              "11"
            ]
          },
          "metadata": {},
          "execution_count": 2
        }
      ]
    },
    {
      "cell_type": "markdown",
      "source": [
        "3.Write a code to slice the first 3 characters from the string \"Python Programming\".\n"
      ],
      "metadata": {
        "id": "M1KBZqCk1UIG"
      }
    },
    {
      "cell_type": "code",
      "source": [
        "str1 = \"Python Programming\"\n",
        "print(str1[0:3])"
      ],
      "metadata": {
        "colab": {
          "base_uri": "https://localhost:8080/"
        },
        "id": "a4Mi4gm91IVj",
        "outputId": "6c077078-6c3e-4db4-984e-daa339db3378"
      },
      "execution_count": null,
      "outputs": [
        {
          "output_type": "stream",
          "name": "stdout",
          "text": [
            "Pyt\n"
          ]
        }
      ]
    },
    {
      "cell_type": "markdown",
      "source": [
        "4. Write a code to convert the string \"hello\" to uppercase.\n"
      ],
      "metadata": {
        "id": "tnFYi71c24ew"
      }
    },
    {
      "cell_type": "code",
      "source": [
        "word = \"hello\"\n",
        "word.upper()"
      ],
      "metadata": {
        "colab": {
          "base_uri": "https://localhost:8080/",
          "height": 36
        },
        "id": "0QFTCNDJ2_sy",
        "outputId": "6e83ab84-b5ce-4e6c-a7ef-de5a02a1865c"
      },
      "execution_count": null,
      "outputs": [
        {
          "output_type": "execute_result",
          "data": {
            "text/plain": [
              "'HELLO'"
            ],
            "application/vnd.google.colaboratory.intrinsic+json": {
              "type": "string"
            }
          },
          "metadata": {},
          "execution_count": 7
        }
      ]
    },
    {
      "cell_type": "markdown",
      "source": [
        "5. Write a code to Replace the word \"apple\" with \"orange\" in the string \"I like apple\"\n"
      ],
      "metadata": {
        "id": "aN5fHLyh3JrK"
      }
    },
    {
      "cell_type": "code",
      "source": [
        "sentence = \"I like apple\"\n",
        "sentence.replace(\"apple\", \"orange\")"
      ],
      "metadata": {
        "colab": {
          "base_uri": "https://localhost:8080/",
          "height": 36
        },
        "id": "wu-imgZL3WcU",
        "outputId": "5c2423d5-7866-4d1d-ecce-6c555869743f"
      },
      "execution_count": null,
      "outputs": [
        {
          "output_type": "execute_result",
          "data": {
            "text/plain": [
              "'I like orange'"
            ],
            "application/vnd.google.colaboratory.intrinsic+json": {
              "type": "string"
            }
          },
          "metadata": {},
          "execution_count": 8
        }
      ]
    },
    {
      "cell_type": "markdown",
      "source": [
        "6. Write a code to create a list with numbers 1 to 5 and print it.\n"
      ],
      "metadata": {
        "id": "tWywrEUr2qa6"
      }
    },
    {
      "cell_type": "code",
      "source": [
        "numbers = [1,2,3,4,5]\n",
        "print(numbers)"
      ],
      "metadata": {
        "colab": {
          "base_uri": "https://localhost:8080/"
        },
        "id": "y2gY7Y_03sIw",
        "outputId": "cbb85ce2-cf64-49f8-eda5-110f13a1dfc9"
      },
      "execution_count": null,
      "outputs": [
        {
          "output_type": "stream",
          "name": "stdout",
          "text": [
            "[1, 2, 3, 4, 5]\n"
          ]
        }
      ]
    },
    {
      "cell_type": "markdown",
      "source": [
        "7. Write a code to append the number 10 to the list [1, 2, 3, 4].\n"
      ],
      "metadata": {
        "id": "5T1mz1lj4AAP"
      }
    },
    {
      "cell_type": "code",
      "source": [
        "numbers = [1,2,3,4]\n",
        "numbers.append(10)\n",
        "numbers"
      ],
      "metadata": {
        "colab": {
          "base_uri": "https://localhost:8080/"
        },
        "id": "yM7ND0wl4HAC",
        "outputId": "b3eb88a7-e182-40c7-9556-5c79624b293a"
      },
      "execution_count": null,
      "outputs": [
        {
          "output_type": "execute_result",
          "data": {
            "text/plain": [
              "[1, 2, 3, 4, 10]"
            ]
          },
          "metadata": {},
          "execution_count": 12
        }
      ]
    },
    {
      "cell_type": "markdown",
      "source": [
        "8. Write a code to remove the number 3 from the list [1, 2, 3, 4, 5].\n"
      ],
      "metadata": {
        "id": "4L6HZA5G4YaE"
      }
    },
    {
      "cell_type": "code",
      "source": [
        "numbers = [1,2,3,4,5]\n",
        "numbers.remove(3)\n",
        "numbers"
      ],
      "metadata": {
        "colab": {
          "base_uri": "https://localhost:8080/"
        },
        "id": "m8QOiGOB4e6s",
        "outputId": "d26a027c-ed86-4c7b-a62e-dedcff8d0d50"
      },
      "execution_count": null,
      "outputs": [
        {
          "output_type": "execute_result",
          "data": {
            "text/plain": [
              "[1, 2, 4, 5]"
            ]
          },
          "metadata": {},
          "execution_count": 14
        }
      ]
    },
    {
      "cell_type": "markdown",
      "source": [
        "9. Write a code to access the second element in the list ['a', 'b', 'c', 'd'].\n"
      ],
      "metadata": {
        "id": "Rz-NLTaN4t3o"
      }
    },
    {
      "cell_type": "code",
      "source": [
        "chars = ['a','b', 'c', 'd']\n",
        "chars[1]"
      ],
      "metadata": {
        "colab": {
          "base_uri": "https://localhost:8080/",
          "height": 36
        },
        "id": "OqQZATqH4zod",
        "outputId": "ceb3f114-47ff-4443-89c9-c1b91c69dab0"
      },
      "execution_count": null,
      "outputs": [
        {
          "output_type": "execute_result",
          "data": {
            "text/plain": [
              "'b'"
            ],
            "application/vnd.google.colaboratory.intrinsic+json": {
              "type": "string"
            }
          },
          "metadata": {},
          "execution_count": 15
        }
      ]
    },
    {
      "cell_type": "markdown",
      "source": [
        "10. Write a code to reverse the list [10, 20, 30, 40, 50]."
      ],
      "metadata": {
        "id": "oArNdq2I5IKy"
      }
    },
    {
      "cell_type": "code",
      "source": [
        "num = [10, 20, 30, 40, 50]\n",
        "num.reverse()\n",
        "num"
      ],
      "metadata": {
        "colab": {
          "base_uri": "https://localhost:8080/"
        },
        "id": "_samHJZb5MhB",
        "outputId": "1d023707-9f4f-4535-d3ac-fc53ab1341c3"
      },
      "execution_count": null,
      "outputs": [
        {
          "output_type": "execute_result",
          "data": {
            "text/plain": [
              "[50, 40, 30, 20, 10]"
            ]
          },
          "metadata": {},
          "execution_count": 20
        }
      ]
    },
    {
      "cell_type": "markdown",
      "source": [
        "11. Write a code to create a tuple with the elements 100, 200, 300 and print it."
      ],
      "metadata": {
        "id": "XswlNNxW6J6O"
      }
    },
    {
      "cell_type": "code",
      "source": [
        "number = (100,200,300)\n",
        "print(number)"
      ],
      "metadata": {
        "colab": {
          "base_uri": "https://localhost:8080/"
        },
        "id": "lgZl2tzt6VQB",
        "outputId": "0fe09f29-0e92-4a2d-f473-9a8a7c2d9bb8"
      },
      "execution_count": null,
      "outputs": [
        {
          "output_type": "stream",
          "name": "stdout",
          "text": [
            "(100, 200, 300)\n"
          ]
        }
      ]
    },
    {
      "cell_type": "markdown",
      "source": [
        "12. Write a code to access the second-to-last element of the tuple ('red', 'green', 'blue', 'yellow')."
      ],
      "metadata": {
        "id": "wPp8xZNu6h_B"
      }
    },
    {
      "cell_type": "code",
      "source": [
        "colors = ('red', 'green', 'blue', 'yellow')\n",
        "colors[-2]"
      ],
      "metadata": {
        "colab": {
          "base_uri": "https://localhost:8080/",
          "height": 36
        },
        "id": "1yim3hpR6dKe",
        "outputId": "9213a526-a95c-452d-fb9a-0d4347266de6"
      },
      "execution_count": null,
      "outputs": [
        {
          "output_type": "execute_result",
          "data": {
            "text/plain": [
              "'blue'"
            ],
            "application/vnd.google.colaboratory.intrinsic+json": {
              "type": "string"
            }
          },
          "metadata": {},
          "execution_count": 22
        }
      ]
    },
    {
      "cell_type": "markdown",
      "source": [
        "13. Write a code to find the minimum number in the tuple (10, 20, 5, 15)."
      ],
      "metadata": {
        "id": "C7UCGKrV6wY2"
      }
    },
    {
      "cell_type": "code",
      "source": [
        "num = (10, 20, 5, 15)\n",
        "min(num)"
      ],
      "metadata": {
        "colab": {
          "base_uri": "https://localhost:8080/"
        },
        "id": "JM3wX2fp6qGX",
        "outputId": "a7269ffb-dfaa-4f42-f74b-642c744d3a71"
      },
      "execution_count": null,
      "outputs": [
        {
          "output_type": "execute_result",
          "data": {
            "text/plain": [
              "5"
            ]
          },
          "metadata": {},
          "execution_count": 23
        }
      ]
    },
    {
      "cell_type": "markdown",
      "source": [
        "14. Write a code to find the index of the element \"cat\" in the tuple ('dog', 'cat', 'rabbit')."
      ],
      "metadata": {
        "id": "D1RbCg_c676V"
      }
    },
    {
      "cell_type": "code",
      "source": [
        "animal = ('dog', 'cat', 'rabbit')\n",
        "animal.index(\"cat\")"
      ],
      "metadata": {
        "colab": {
          "base_uri": "https://localhost:8080/"
        },
        "id": "XTVsNHHu63eE",
        "outputId": "e8c99136-4806-4bfd-aa8d-83e3779de82c"
      },
      "execution_count": null,
      "outputs": [
        {
          "output_type": "execute_result",
          "data": {
            "text/plain": [
              "1"
            ]
          },
          "metadata": {},
          "execution_count": 24
        }
      ]
    },
    {
      "cell_type": "markdown",
      "source": [
        "15. Write a code to create a tuple containing three different fruits and check if \"kiwi\" is in it."
      ],
      "metadata": {
        "id": "W06yit8a7HUT"
      }
    },
    {
      "cell_type": "code",
      "source": [
        "fruits =(\"banana\", \"apple\", \"grapes\")\n",
        "if \"kiwi\" in fruits:\n",
        "    print(\"Yes, 'kiwi' is in the tuple.\")\n",
        "else:\n",
        "    print(\"No, 'kiwi' is not in the tuple.\")\n"
      ],
      "metadata": {
        "colab": {
          "base_uri": "https://localhost:8080/"
        },
        "id": "t9kgne2n7CwG",
        "outputId": "330a7c9e-2d10-4dd8-c666-24ae9f897bd2"
      },
      "execution_count": 1,
      "outputs": [
        {
          "output_type": "stream",
          "name": "stdout",
          "text": [
            "No, 'kiwi' is not in the tuple.\n"
          ]
        }
      ]
    },
    {
      "cell_type": "markdown",
      "source": [
        "16. Write a code to create a set with the elements 'a', 'b', 'c' and print it."
      ],
      "metadata": {
        "id": "vb32Of2H7bwA"
      }
    },
    {
      "cell_type": "code",
      "source": [
        "char_set = {'a', 'b','c'}\n",
        "print(char_set)"
      ],
      "metadata": {
        "colab": {
          "base_uri": "https://localhost:8080/"
        },
        "id": "PqbfXm947hcW",
        "outputId": "3145f86b-fc8c-4dd7-f860-a402202a3e66"
      },
      "execution_count": null,
      "outputs": [
        {
          "output_type": "stream",
          "name": "stdout",
          "text": [
            "{'b', 'a', 'c'}\n"
          ]
        }
      ]
    },
    {
      "cell_type": "markdown",
      "source": [
        "17. Write a code to clear all elements from the set {1, 2, 3, 4, 5}."
      ],
      "metadata": {
        "id": "QZXQfU9S7zwc"
      }
    },
    {
      "cell_type": "code",
      "source": [
        "num_set = {1, 2, 3, 4, 5}\n",
        "num_set.clear()\n",
        "print(num_set)"
      ],
      "metadata": {
        "id": "CPoQvJNu76x9",
        "colab": {
          "base_uri": "https://localhost:8080/"
        },
        "outputId": "a55e737c-979c-48a9-9144-c1fbe92b3b08"
      },
      "execution_count": null,
      "outputs": [
        {
          "output_type": "stream",
          "name": "stdout",
          "text": [
            "set()\n"
          ]
        }
      ]
    },
    {
      "cell_type": "markdown",
      "source": [
        "18. Write a code to remove the element 4 from the set {1, 2, 3, 4}."
      ],
      "metadata": {
        "id": "XjJpIHeAr694"
      }
    },
    {
      "cell_type": "code",
      "source": [
        "set1 = {1, 2, 3, 4}\n",
        "set1.remove(4)\n",
        "print(set1)"
      ],
      "metadata": {
        "colab": {
          "base_uri": "https://localhost:8080/"
        },
        "id": "6jDl1r2osRml",
        "outputId": "ccdb3366-0bfa-436d-f2c9-23c4dc377b42"
      },
      "execution_count": null,
      "outputs": [
        {
          "output_type": "stream",
          "name": "stdout",
          "text": [
            "{1, 2, 3}\n"
          ]
        }
      ]
    },
    {
      "cell_type": "markdown",
      "source": [
        "19. Write a code to find the union of two sets {1, 2, 3} and {3, 4, 5}."
      ],
      "metadata": {
        "id": "Yoqc-G7ssFbt"
      }
    },
    {
      "cell_type": "code",
      "source": [
        "s1 = {1, 2, 3}\n",
        "s2 = {3, 4, 5}\n",
        "print(s1 | s2)"
      ],
      "metadata": {
        "colab": {
          "base_uri": "https://localhost:8080/"
        },
        "id": "cOJhVJP8skuy",
        "outputId": "ef0a8f6f-f066-489b-974c-0ba0cfd660c5"
      },
      "execution_count": null,
      "outputs": [
        {
          "output_type": "stream",
          "name": "stdout",
          "text": [
            "{1, 2, 3, 4, 5}\n"
          ]
        }
      ]
    },
    {
      "cell_type": "markdown",
      "source": [
        "20. Write a code to find the intersection of two sets {1, 2, 3} and {2, 3, 4}."
      ],
      "metadata": {
        "id": "guges_e2sJAZ"
      }
    },
    {
      "cell_type": "code",
      "source": [
        "s3 = {1, 2, 3}\n",
        "s4 = {2,3, 4}\n",
        "print(s3 & s4)"
      ],
      "metadata": {
        "colab": {
          "base_uri": "https://localhost:8080/"
        },
        "id": "QggZPFn_s0y3",
        "outputId": "44f14e12-e061-4614-83f5-0a361db997e5"
      },
      "execution_count": null,
      "outputs": [
        {
          "output_type": "stream",
          "name": "stdout",
          "text": [
            "{2, 3}\n"
          ]
        }
      ]
    },
    {
      "cell_type": "markdown",
      "source": [
        "21. Write a code to create a dictionary with the keys \"name\", \"age\", and \"city\", and print it."
      ],
      "metadata": {
        "id": "OlAXYqdHsMJ9"
      }
    },
    {
      "cell_type": "code",
      "source": [
        "dict1 = {\"name\":\"srushti\", \"age\":22, \"city\": \"mumbai\"}\n",
        "print(dict1)"
      ],
      "metadata": {
        "colab": {
          "base_uri": "https://localhost:8080/"
        },
        "id": "dRxjSHVZAUP-",
        "outputId": "6301889c-c93b-43d2-92bf-382e6dc6eaa8"
      },
      "execution_count": null,
      "outputs": [
        {
          "output_type": "stream",
          "name": "stdout",
          "text": [
            "{'name': 'srushti', 'age': 22, 'city': 'mumbai'}\n"
          ]
        }
      ]
    },
    {
      "cell_type": "markdown",
      "source": [
        "22. Write a code to add a new key-value pair \"country\": \"USA\" to the dictionary {'name': 'John', 'age': 25}.\n",
        "\n"
      ],
      "metadata": {
        "id": "rGSPCSSztJWR"
      }
    },
    {
      "cell_type": "code",
      "source": [
        "info = {\"name\":\"John\", \"age\":25}\n",
        "info[\"country\"]= \"USA\"\n",
        "print(info)"
      ],
      "metadata": {
        "colab": {
          "base_uri": "https://localhost:8080/"
        },
        "id": "V6ffH04aAdmJ",
        "outputId": "c03b8d01-0040-470a-f60a-b08c9eac5231"
      },
      "execution_count": null,
      "outputs": [
        {
          "output_type": "stream",
          "name": "stdout",
          "text": [
            "{'name': 'John', 'age': 25, 'country': 'USA'}\n"
          ]
        }
      ]
    },
    {
      "cell_type": "markdown",
      "source": [
        "23. Write a code to access the value associated with the key \"name\" in the dictionary {'name': 'Alice', 'age': 30}.\n",
        "\n"
      ],
      "metadata": {
        "id": "j6TP4elftNAw"
      }
    },
    {
      "cell_type": "code",
      "source": [
        "dict2 = {'name': 'Alice', 'age': 30}\n",
        "dict2.get(\"name\")"
      ],
      "metadata": {
        "colab": {
          "base_uri": "https://localhost:8080/",
          "height": 36
        },
        "id": "NDZqW6RnA0Cf",
        "outputId": "dc616b20-f651-43a8-ac2f-62e1d0714771"
      },
      "execution_count": null,
      "outputs": [
        {
          "output_type": "execute_result",
          "data": {
            "text/plain": [
              "'Alice'"
            ],
            "application/vnd.google.colaboratory.intrinsic+json": {
              "type": "string"
            }
          },
          "metadata": {},
          "execution_count": 15
        }
      ]
    },
    {
      "cell_type": "markdown",
      "source": [
        "24. Write a code to remove the key \"age\" from the dictionary {'name': 'Bob', 'age': 22, 'city': 'New York'}.\n",
        "\n"
      ],
      "metadata": {
        "id": "LvMZ3VictQP3"
      }
    },
    {
      "cell_type": "code",
      "source": [
        "d1 = {'name': 'Bob', 'age': 22, 'city': 'New York'}\n",
        "d1.pop(\"age\")\n",
        "print(d1)"
      ],
      "metadata": {
        "colab": {
          "base_uri": "https://localhost:8080/"
        },
        "id": "Tb8y2sdYBWSt",
        "outputId": "3807c2fe-fbd8-4e79-d822-c7fceb610d3a"
      },
      "execution_count": null,
      "outputs": [
        {
          "output_type": "stream",
          "name": "stdout",
          "text": [
            "{'name': 'Bob', 'city': 'New York'}\n"
          ]
        }
      ]
    },
    {
      "cell_type": "markdown",
      "source": [
        "25. Write a code to check if the key \"city\" exists in the dictionary {'name': 'Alice', 'city': 'Paris'}.\n",
        "\n"
      ],
      "metadata": {
        "id": "INSEVKWjtSuI"
      }
    },
    {
      "cell_type": "code",
      "source": [
        "my_dict = {'name': 'Alice', 'city': 'Paris'}\n",
        "\n",
        "if \"city\" in my_dict:\n",
        "    print(\"Key 'city' exists in the dictionary.\")\n",
        "else:\n",
        "    print(\"Key 'city' does not exist in the dictionary.\")"
      ],
      "metadata": {
        "colab": {
          "base_uri": "https://localhost:8080/"
        },
        "id": "loGzagSPBpj0",
        "outputId": "23cf75e8-3d21-44f4-e1eb-cb28d0f3d478"
      },
      "execution_count": null,
      "outputs": [
        {
          "output_type": "stream",
          "name": "stdout",
          "text": [
            "Key 'city' exists in the dictionary.\n"
          ]
        }
      ]
    },
    {
      "cell_type": "markdown",
      "source": [
        "26. Write a code to create a list, a tuple, and a dictionary, and print them all.\n",
        "\n"
      ],
      "metadata": {
        "id": "eW8MMNGItVAy"
      }
    },
    {
      "cell_type": "code",
      "source": [
        "my_list = [1, 2, 3, 4, 5]\n",
        "\n",
        "my_tuple = (10, 20, 30, 40, 50)\n",
        "\n",
        "my_dict = {'name': 'Alice', 'age': 25, 'city': 'Paris'}\n",
        "\n",
        "print(\"List:\", my_list)\n",
        "print(\"Tuple:\", my_tuple)\n",
        "print(\"Dictionary:\", my_dict)"
      ],
      "metadata": {
        "colab": {
          "base_uri": "https://localhost:8080/"
        },
        "id": "dc2AhJ58CYb6",
        "outputId": "00da8400-7e58-458f-b8ca-4b4a6153e027"
      },
      "execution_count": null,
      "outputs": [
        {
          "output_type": "stream",
          "name": "stdout",
          "text": [
            "List: [1, 2, 3, 4, 5]\n",
            "Tuple: (10, 20, 30, 40, 50)\n",
            "Dictionary: {'name': 'Alice', 'age': 25, 'city': 'Paris'}\n"
          ]
        }
      ]
    },
    {
      "cell_type": "markdown",
      "source": [
        "27. Write a code to create a list of 5 random numbers between 1 and 100, sort it in ascending order, and print the\n",
        "result.(replaced)\n",
        "\n"
      ],
      "metadata": {
        "id": "HDJ6FM0gtXE6"
      }
    },
    {
      "cell_type": "code",
      "source": [
        "import random\n",
        "\n",
        "numbers = [random.randint(1, 100) for _ in range(5)]\n",
        "print(\"Original list:\", numbers)\n",
        "\n",
        "numbers.sort()\n",
        "print(\"Sorted list:\", numbers)\n"
      ],
      "metadata": {
        "colab": {
          "base_uri": "https://localhost:8080/"
        },
        "id": "saUMm-Y2Ce6x",
        "outputId": "12a3450f-35b3-4e49-e8d1-003d17fdfa6e"
      },
      "execution_count": null,
      "outputs": [
        {
          "output_type": "stream",
          "name": "stdout",
          "text": [
            "Original list: [100, 76, 37, 75, 19]\n",
            "Sorted list: [19, 37, 75, 76, 100]\n"
          ]
        }
      ]
    },
    {
      "cell_type": "markdown",
      "source": [
        "28. Write a code to create a list with strings and print the element at the third index.\n",
        "\n"
      ],
      "metadata": {
        "id": "uKe_mvOeteCV"
      }
    },
    {
      "cell_type": "code",
      "source": [
        "my_strings = [\"apple\", \"banana\", \"cherry\", \"date\", \"fig\"]\n",
        "print(my_strings[3])"
      ],
      "metadata": {
        "colab": {
          "base_uri": "https://localhost:8080/"
        },
        "id": "x5kom5DEDPur",
        "outputId": "385c5786-7d16-4d61-9477-4b0666da608e"
      },
      "execution_count": null,
      "outputs": [
        {
          "output_type": "stream",
          "name": "stdout",
          "text": [
            "date\n"
          ]
        }
      ]
    },
    {
      "cell_type": "markdown",
      "source": [
        "29. Write a code to combine two dictionaries into one and print the result.\n",
        "\n"
      ],
      "metadata": {
        "id": "k59kNubutgRK"
      }
    },
    {
      "cell_type": "code",
      "source": [
        "dict1 = {'a': 1, 'b': 2}\n",
        "dict2 = {'c': 3, 'd': 4}\n",
        "\n",
        "combined_dict = dict1.copy()\n",
        "combined_dict.update(dict2)\n",
        "\n",
        "print(\"Combined dictionary:\", combined_dict)\n"
      ],
      "metadata": {
        "colab": {
          "base_uri": "https://localhost:8080/"
        },
        "id": "hwjsEnuTHsG6",
        "outputId": "0804a8f0-84ba-419c-c444-df90da0de7fb"
      },
      "execution_count": null,
      "outputs": [
        {
          "output_type": "stream",
          "name": "stdout",
          "text": [
            "Combined dictionary: {'a': 1, 'b': 2, 'c': 3, 'd': 4}\n"
          ]
        }
      ]
    },
    {
      "cell_type": "markdown",
      "source": [
        "30. Write a code to convert a list of strings into a set."
      ],
      "metadata": {
        "id": "uxYmwvO4tjA4"
      }
    },
    {
      "cell_type": "code",
      "source": [
        "string_list = [\"apple\", \"banana\", \"cherry\", \"apple\", \"banana\"]\n",
        "string_set = set(string_list)\n",
        "\n",
        "print(\"Original list:\", string_list)\n",
        "print(\"Converted set:\", string_set)\n"
      ],
      "metadata": {
        "colab": {
          "base_uri": "https://localhost:8080/"
        },
        "id": "XmPavFdrF5DI",
        "outputId": "df04caa9-6def-462a-a81a-c4a4f7431f93"
      },
      "execution_count": null,
      "outputs": [
        {
          "output_type": "stream",
          "name": "stdout",
          "text": [
            "Original list: ['apple', 'banana', 'cherry', 'apple', 'banana']\n",
            "Converted set: {'cherry', 'apple', 'banana'}\n"
          ]
        }
      ]
    },
    {
      "cell_type": "code",
      "source": [],
      "metadata": {
        "id": "BfaSiR4dG6Ym"
      },
      "execution_count": null,
      "outputs": []
    }
  ]
}